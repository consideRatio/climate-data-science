{
 "cells": [
  {
   "cell_type": "markdown",
   "metadata": {},
   "source": [
    "# Crowdfunding a nuclear power plant, for the climate\n",
    "Have you ever considered offsetting your footprint? If you have, it is relevant to consider how much you can offset per money invested. In this notebook I'll perform such calculation for you to see, as requested by [@Gen_Atomic in a tweet](https://twitter.com/Gen_Atomic/status/1175774902680510470?s=20).\n",
    "\n",
    "# Question\n",
    "About how much would it cost for me to offset my entire greenhouse gas footprint if I wanted to do it by donating money to construct a nuclear power plant to be constructed and donated under the premise would shut down a fully functional coal plant?\n",
    "\n",
    "# Answer\n",
    "I'll answer this with the calculation below, and you can re-run this calculation if you run this notebook on mybinder.org, because it will require you to execute this Python code again and it has to be done someplace, mybinder.org can be this place for free without needing to create an account etc. Just press the link below and wait a while if you are not already running this notebook on mybinder.org. To run a code cell, select it and press shift enter.\n",
    "\n",
    "[![Binder](https://mybinder.org/badge_logo.svg)](https://mybinder.org/v2/gh/consideratio/climate-data-science/master?urlpath=/lab/tree/notebooks/crowdfunding_nuclear.ipynb)"
   ]
  },
  {
   "cell_type": "code",
   "execution_count": 20,
   "metadata": {},
   "outputs": [
    {
     "name": "stdout",
     "output_type": "stream",
     "text": [
      "It requires 4291 EUR to offset my lifetime emissions\n"
     ]
    }
   ],
   "source": [
    "### Numerical assumptions\n",
    "# - the cost of constructing 1 GW of nuclear power\n",
    "construction_cost = 2 * 10**9 # [EUR / GW nuclear power capacity]\n",
    "\n",
    "# - the average operating capacity factor of the nuclear power plant\n",
    "capacity_factor = 0.9 # [no unit]\n",
    "\n",
    "# - the lifetime of this nuclear power plant\n",
    "lifetime = 60 # [Years]\n",
    "lifetime_hours = lifetime * 365 * 24\n",
    "operating_hours = lifetime_hours * capacity_factor\n",
    "\n",
    "# - the average emissions of the coal plant compared to the nuclear power plant per electric energy produced\n",
    "#   UNIT: tCO2eq/GWh, which is the same as gCO2eq/kWh btw\n",
    "#   SOURCE: IPCC 2014 (AR5, WG3, Table A.III.2, in https://www.ipcc.ch/site/assets/uploads/2018/02/ipcc_wg3_ar5_annex-iii.pdf)\n",
    "emission_difference = 820 - 12\n",
    "\n",
    "# - a humans / my lifetime emissions\n",
    "my_lifetime = 82 # Years\n",
    "my_emissions_per_year = 10 # tCO2eq / Year\n",
    "human_lifetime_emissions = my_emissions_per_year * my_lifetime # tCO2eq\n",
    "\n",
    "### Calculation\n",
    "offset_emissions = emission_difference * operating_hours\n",
    "amount_of_human_lifetime_emissions_offset = offset_emissions / human_lifetime_emissions\n",
    "contribution_required_to_offset_my_lifetime_emissions = construction_cost / amount_of_human_lifetime_emissions_offset\n",
    "\n",
    "### Conclusion\n",
    "print(f\"It requires {contribution_required_to_offset_my_lifetime_emissions:.0f} EUR to offset my lifetime emissions\")"
   ]
  },
  {
   "cell_type": "markdown",
   "metadata": {},
   "source": [
    "# Critical notes\n",
    "This is running under the assumption there is need for more low-carbon electricity during the operational lifetime, or that such low-carbon electricity still can be used to reduce emissions in other sectors by producing artificial fuels for example."
   ]
  },
  {
   "cell_type": "code",
   "execution_count": null,
   "metadata": {},
   "outputs": [],
   "source": []
  }
 ],
 "metadata": {
  "kernelspec": {
   "display_name": "Python 3",
   "language": "python",
   "name": "python3"
  },
  "language_info": {
   "codemirror_mode": {
    "name": "ipython",
    "version": 3
   },
   "file_extension": ".py",
   "mimetype": "text/x-python",
   "name": "python",
   "nbconvert_exporter": "python",
   "pygments_lexer": "ipython3",
   "version": "3.6.7"
  }
 },
 "nbformat": 4,
 "nbformat_minor": 4
}
